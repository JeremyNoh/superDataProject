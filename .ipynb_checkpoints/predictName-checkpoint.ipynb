{
 "cells": [
  {
   "cell_type": "markdown",
   "metadata": {},
   "source": [
    "#Super data project"
   ]
  },
  {
   "cell_type": "markdown",
   "metadata": {},
   "source": [
    "Projet Linéaire"
   ]
  },
  {
   "cell_type": "markdown",
   "metadata": {},
   "source": [
    "Membre du groupe: Jeremy noh, Antoine François, julien Luccioni"
   ]
  },
  {
   "cell_type": "raw",
   "metadata": {},
   "source": [
    "notre jeu de donnée sera le recensement des logements sociaux à Paris "
   ]
  },
  {
   "cell_type": "markdown",
   "metadata": {},
   "source": [
    "## Import Lib"
   ]
  },
  {
   "cell_type": "code",
   "execution_count": 1,
   "metadata": {},
   "outputs": [],
   "source": [
    "import numpy as np\n",
    "import pandas as pd\n",
    "import matplotlib.pyplot as plt\n",
    "import scipy\n",
    "\n",
    "\n",
    "from sklearn import linear_model \n",
    "from sklearn import datasets\n",
    "from sklearn.metrics import mean_squared_error, r2_score \n",
    "import seaborn as sns"
   ]
  },
  {
   "cell_type": "markdown",
   "metadata": {},
   "source": [
    "#  Import  DATASET"
   ]
  },
  {
   "cell_type": "code",
   "execution_count": 2,
   "metadata": {},
   "outputs": [],
   "source": [
    "logements = pd.read_json(\"./liste_des_prenoms.json\")\n",
    "## print(logements) "
   ]
  },
  {
   "cell_type": "markdown",
   "metadata": {},
   "source": [
    "# Tri des données"
   ]
  },
  {
   "cell_type": "code",
   "execution_count": 10,
   "metadata": {},
   "outputs": [
    {
     "name": "stdout",
     "output_type": "stream",
     "text": [
      "[[15, '2016', 289, 'M', 'Bastien']]\n"
     ]
    }
   ],
   "source": [
    "data = []\n",
    "\n",
    "columns =  [\"nombre\",\"annee\",\"nombre_total_cumule\",\"sexe\",\"prenoms\"]\n",
    "\n",
    "for x in logements.fields:\n",
    "\n",
    "    row = [x[\"nombre\"],x[\"annee\"],x[\"nombre_total_cumule\"],x[\"sexe\"],x[\"prenoms\"] ]  \n",
    "    data.append(row)\n",
    "    break ; \n",
    "\n",
    "##codePostaux = np.unique(codePostal) \n",
    "print(data)\n",
    "    \n"
   ]
  },
  {
   "cell_type": "code",
   "execution_count": 11,
   "metadata": {},
   "outputs": [
    {
     "name": "stdout",
     "output_type": "stream",
     "text": [
      "Chargement des données effectué.\n"
     ]
    }
   ],
   "source": [
    "dataset = pd.DataFrame(data, columns=columns)\n",
    "##dataset['target'] =  codePostaux\n",
    "print(\"Chargement des données effectué.\")"
   ]
  },
  {
   "cell_type": "code",
   "execution_count": 12,
   "metadata": {},
   "outputs": [
    {
     "data": {
      "text/html": [
       "<div>\n",
       "<style scoped>\n",
       "    .dataframe tbody tr th:only-of-type {\n",
       "        vertical-align: middle;\n",
       "    }\n",
       "\n",
       "    .dataframe tbody tr th {\n",
       "        vertical-align: top;\n",
       "    }\n",
       "\n",
       "    .dataframe thead th {\n",
       "        text-align: right;\n",
       "    }\n",
       "</style>\n",
       "<table border=\"1\" class=\"dataframe\">\n",
       "  <thead>\n",
       "    <tr style=\"text-align: right;\">\n",
       "      <th></th>\n",
       "      <th>nombre</th>\n",
       "      <th>annee</th>\n",
       "      <th>nombre_total_cumule</th>\n",
       "      <th>sexe</th>\n",
       "      <th>prenoms</th>\n",
       "    </tr>\n",
       "  </thead>\n",
       "  <tbody>\n",
       "    <tr>\n",
       "      <th>0</th>\n",
       "      <td>15</td>\n",
       "      <td>2016</td>\n",
       "      <td>289</td>\n",
       "      <td>M</td>\n",
       "      <td>Bastien</td>\n",
       "    </tr>\n",
       "  </tbody>\n",
       "</table>\n",
       "</div>"
      ],
      "text/plain": [
       "   nombre annee  nombre_total_cumule sexe  prenoms\n",
       "0      15  2016                  289    M  Bastien"
      ]
     },
     "execution_count": 12,
     "metadata": {},
     "output_type": "execute_result"
    }
   ],
   "source": [
    "dataset.head()"
   ]
  },
  {
   "cell_type": "raw",
   "metadata": {},
   "source": [
    "nb_logmt_total\n",
    "code_postal\n",
    "nature_programme\n",
    "annee\n",
    "mode_real"
   ]
  },
  {
   "cell_type": "markdown",
   "metadata": {},
   "source": [
    "# Modèle simple\n",
    "\n",
    "### Données d'entrée\n",
    "\n",
    "Dans ce premier modèle simple, nous allons essayer de prédire la largeur de la pétale (en cm) en fonction de sa longueur (en cm). L'objectif est de déterminer s'il existe un lien linéaire entre ces deux variables, et si oui, modéliser ce lien par une régression linéaire simple."
   ]
  },
  {
   "cell_type": "code",
   "execution_count": 13,
   "metadata": {},
   "outputs": [],
   "source": [
    "## X_train = dataset[\"annee\"]\n",
    "## Y_train = dataset[\"prenoms\"]\n"
   ]
  },
  {
   "cell_type": "code",
   "execution_count": 14,
   "metadata": {},
   "outputs": [],
   "source": [
    "## plt.figure(figsize=(12, 7))\n",
    "## plt.scatter(X_train, Y_train)\n",
    "## plt.show()"
   ]
  },
  {
   "cell_type": "code",
   "execution_count": null,
   "metadata": {},
   "outputs": [],
   "source": []
  },
  {
   "cell_type": "code",
   "execution_count": null,
   "metadata": {},
   "outputs": [],
   "source": []
  },
  {
   "cell_type": "code",
   "execution_count": null,
   "metadata": {},
   "outputs": [],
   "source": []
  }
 ],
 "metadata": {
  "kernelspec": {
   "display_name": "Python 3",
   "language": "python",
   "name": "python3"
  },
  "language_info": {
   "codemirror_mode": {
    "name": "ipython",
    "version": 3
   },
   "file_extension": ".py",
   "mimetype": "text/x-python",
   "name": "python",
   "nbconvert_exporter": "python",
   "pygments_lexer": "ipython3",
   "version": "3.7.1"
  }
 },
 "nbformat": 4,
 "nbformat_minor": 2
}
