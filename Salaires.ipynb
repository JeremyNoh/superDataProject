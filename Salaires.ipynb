{
 "cells": [
  {
   "cell_type": "markdown",
   "metadata": {},
   "source": [
    "#Super data project"
   ]
  },
  {
   "cell_type": "markdown",
   "metadata": {},
   "source": [
    "Projet Linéaire"
   ]
  },
  {
   "cell_type": "markdown",
   "metadata": {},
   "source": [
    "Membre du groupe: Jeremy noh, Antoine François, julien Luccioni"
   ]
  },
  {
   "cell_type": "raw",
   "metadata": {},
   "source": [
    "notre jeu de donnée sera le recensement des logements sociaux à Paris "
   ]
  },
  {
   "cell_type": "markdown",
   "metadata": {},
   "source": [
    "## Import Lib"
   ]
  },
  {
   "cell_type": "code",
   "execution_count": 42,
   "metadata": {},
   "outputs": [],
   "source": [
    "import numpy as np\n",
    "import pandas as pd\n",
    "import matplotlib.pyplot as plt\n",
    "import scipy\n",
    "\n",
    "\n",
    "from sklearn import linear_model \n",
    "from sklearn import datasets\n",
    "from sklearn.metrics import mean_squared_error, r2_score \n",
    "import seaborn as sns"
   ]
  },
  {
   "cell_type": "markdown",
   "metadata": {},
   "source": [
    "#  Import  DATASET"
   ]
  },
  {
   "cell_type": "code",
   "execution_count": 43,
   "metadata": {},
   "outputs": [
    {
     "name": "stdout",
     "output_type": "stream",
     "text": [
      "                                                fields  \\\n",
      "0    {'je_me_sens': 'pile-poil dedans', 'mon_poste'...   \n",
      "1    {'je_me_sens': 'sous-payé', 'mon_poste': 'CEO'...   \n",
      "2    {'je_me_sens': 'sous-payé', 'bonus_annuel_eu':...   \n",
      "3    {'je_me_sens': 'sous-payé', 'bonus_annuel_eu':...   \n",
      "4    {'je_me_sens': 'pile-poil dedans', 'bonus_annu...   \n",
      "5    {'je_me_sens': 'sous-payé', 'bonus_annuel_eu':...   \n",
      "6    {'je_me_sens': 'sous-payé', 'bonus_annuel_eu':...   \n",
      "7    {'mon_poste': 'Digital Marketing', 'taille_de_...   \n",
      "8    {'je_me_sens': 'pile-poil dedans', 'bonus_annu...   \n",
      "9    {'je_me_sens': 'sous-payé', 'bonus_annuel_eu':...   \n",
      "10   {'je_me_sens': 'sous-payé', 'bonus_annuel_eu':...   \n",
      "11   {'je_me_sens': 'sous-payé', 'bonus_annuel_eu':...   \n",
      "12   {'je_me_sens': 'pile-poil dedans', 'bonus_annu...   \n",
      "13   {'je_me_sens': 'pile-poil dedans', 'bonus_annu...   \n",
      "14   {'je_me_sens': 'sous-payé', 'bonus_annuel_eu':...   \n",
      "15   {'je_me_sens': 'sous-payé', 'bonus_annuel_eu':...   \n",
      "16   {'je_me_sens': 'pile-poil dedans', 'bonus_annu...   \n",
      "17   {'je_me_sens': 'pile-poil dedans', 'mon_poste'...   \n",
      "18   {'je_me_sens': 'pile-poil dedans', 'bonus_annu...   \n",
      "19   {'je_me_sens': 'sous-payé', 'mon_poste': 'Traf...   \n",
      "20   {'je_me_sens': 'sous-payé', 'bonus_annuel_eu':...   \n",
      "21   {'bonus_annuel_eu': 0, 'mon_poste': 'CEO', 'ta...   \n",
      "22   {'je_me_sens': 'pile-poil dedans', 'mon_poste'...   \n",
      "23   {'je_me_sens': 'sous-payé', 'bonus_annuel_eu':...   \n",
      "24   {'je_me_sens': 'pile-poil dedans', 'mon_poste'...   \n",
      "25   {'je_me_sens': 'pile-poil dedans', 'bonus_annu...   \n",
      "26   {'mon_poste': 'Consultant SEA', 'taille_de_ma_...   \n",
      "27   {'bonus_annuel_eu': 0, 'mon_poste': 'Couteau-S...   \n",
      "28   {'je_me_sens': 'pile-poil dedans', 'bonus_annu...   \n",
      "29   {'je_me_sens': 'pile-poil dedans', 'bonus_annu...   \n",
      "..                                                 ...   \n",
      "557  {'bonus_annuel_eu': 0, 'mon_poste': 'CTO', 'ta...   \n",
      "558  {'je_me_sens': 'pile-poil dedans', 'mon_poste'...   \n",
      "559  {'bonus_annuel_eu': 0, 'mon_poste': 'Full stac...   \n",
      "560  {'je_me_sens': 'pile-poil dedans', 'bonus_annu...   \n",
      "561  {'je_me_sens': 'pile-poil dedans', 'bonus_annu...   \n",
      "562  {'je_me_sens': 'sous-payé', 'bonus_annuel_eu':...   \n",
      "563  {'je_me_sens': 'sous-payé', 'bonus_annuel_eu':...   \n",
      "564  {'je_me_sens': 'sous-payé', 'bonus_annuel_eu':...   \n",
      "565  {'je_me_sens': 'sous-payé', 'bonus_annuel_eu':...   \n",
      "566  {'je_me_sens': 'pile-poil dedans', 'bonus_annu...   \n",
      "567  {'bonus_annuel_eu': 0, 'mon_poste': 'Product O...   \n",
      "568  {'je_me_sens': 'sous-payé', 'bonus_annuel_eu':...   \n",
      "569  {'je_me_sens': 'pile-poil dedans', 'bonus_annu...   \n",
      "570  {'je_me_sens': 'sous-payé', 'bonus_annuel_eu':...   \n",
      "571  {'je_me_sens': 'pile-poil dedans', 'bonus_annu...   \n",
      "572  {'mon_poste': 'CEO', 'taille_de_ma_startup': '...   \n",
      "573  {'je_me_sens': 'pile-poil dedans', 'mon_poste'...   \n",
      "574  {'je_me_sens': 'pile-poil dedans', 'bonus_annu...   \n",
      "575  {'je_me_sens': 'sous-payé', 'bonus_annuel_eu':...   \n",
      "576  {'je_me_sens': 'sous-payé', 'bonus_annuel_eu':...   \n",
      "577  {'je_me_sens': 'pile-poil dedans', 'bonus_annu...   \n",
      "578  {'je_me_sens': 'pile-poil dedans', 'bonus_annu...   \n",
      "579  {'je_me_sens': 'sous-payé', 'mon_poste': 'Déve...   \n",
      "580  {'je_me_sens': 'sous-payé', 'bonus_annuel_eu':...   \n",
      "581  {'je_me_sens': 'sous-payé', 'mon_poste': 'Head...   \n",
      "582  {'je_me_sens': 'pile-poil dedans', 'bonus_annu...   \n",
      "583  {'je_me_sens': 'pile-poil dedans', 'bonus_annu...   \n",
      "584  {'mon_poste': 'Responsable grands comptes', 't...   \n",
      "585  {'je_me_sens': 'pile-poil dedans', 'bonus_annu...   \n",
      "586  {'je_me_sens': 'sous-payé', 'bonus_annuel_eu':...   \n",
      "\n",
      "              record_timestamp                                  recordid  \n",
      "0    2018-12-18T00:01:08+01:00  7da6c960fca39ee2a587ad90006c27d696b81888  \n",
      "1    2018-12-18T00:01:08+01:00  598b53d3c9dca6a8ba805596e3b826b371805c6d  \n",
      "2    2018-12-18T00:01:08+01:00  e6952c1947974035319911ca44c1298797b6409a  \n",
      "3    2018-12-18T00:01:08+01:00  4d9128c295a0c1a220ab23c0079bf83e6efb15c3  \n",
      "4    2018-12-18T00:01:08+01:00  7c662b1f80f0a46b42315a7999f66c5614d7e71d  \n",
      "5    2018-12-18T00:01:08+01:00  c70249536089e10ab448749ee1e8a97abf425b65  \n",
      "6    2018-12-18T00:01:08+01:00  4cd4b17bfa5feee32cdebab3d303000d7cd21f7b  \n",
      "7    2018-12-18T00:01:08+01:00  43242c4f17852d476d90d1ea7491efaabe4a0409  \n",
      "8    2018-12-18T00:01:08+01:00  c3603588e6d771c2b3f39e3feb9ba603c3657bcb  \n",
      "9    2018-12-18T00:01:08+01:00  aac4785e61a3a6c49c0648921439dc6abdc3582e  \n",
      "10   2018-12-18T00:01:08+01:00  a62317e78821dc5beef67cb026bae6506a20ae9e  \n",
      "11   2018-12-18T00:01:08+01:00  f0bf03a4f3867c17eb65f8d25cddd48e39abc704  \n",
      "12   2018-12-18T00:01:08+01:00  4fae724892b4722302c06fc79d75b99b6fdfb7ee  \n",
      "13   2018-12-18T00:01:08+01:00  d29cdd092518010f50e9c01412cf2db2c5f830a2  \n",
      "14   2018-12-18T00:01:08+01:00  527f8c389c48cec595bd5f43742a47bad307b3bb  \n",
      "15   2018-12-18T00:01:08+01:00  0a63dc1e4b8c5d0d1b4d81cd84478ede2da4388d  \n",
      "16   2018-12-18T00:01:08+01:00  088eb1a0dce2888a9be630c6855ec7a50b811738  \n",
      "17   2018-12-18T00:01:08+01:00  e4022ed4dfbd371b47308a7985ff45ed34b67f0b  \n",
      "18   2018-12-18T00:01:08+01:00  0d906df19906d26c2aa9450540f0fe32f6a74243  \n",
      "19   2018-12-18T00:01:08+01:00  42a761718f8e86c8d2941b519b0c1ce6df8490a1  \n",
      "20   2018-12-18T00:01:08+01:00  87510bce5208d7261d30ebc1755cfc8e3f038ae8  \n",
      "21   2018-12-18T00:01:08+01:00  947fa7172b4c0fdd2917c059979fc8f2b624989a  \n",
      "22   2018-12-18T00:01:08+01:00  597b8bc76db17f5addd5c1393eacb1945131be01  \n",
      "23   2018-12-18T00:01:08+01:00  a343c61fe27cd7c65e09c7026a3a5b8540a71665  \n",
      "24   2018-12-18T00:01:08+01:00  843165bd001b1653d1e992bfd03737c456baadd5  \n",
      "25   2018-12-18T00:01:08+01:00  037b08b573897e1659fbb6b3d563235d83498bb6  \n",
      "26   2018-12-18T00:01:08+01:00  ae8984d9dc2d67643ca476b13263ecff23806398  \n",
      "27   2018-12-18T00:01:08+01:00  2d1f2e55b24641d079a0ffd0745e4d7aceaba775  \n",
      "28   2018-12-18T00:01:08+01:00  713a948d9325135bafc34fe387d1944bc13e97d5  \n",
      "29   2018-12-18T00:01:08+01:00  b5ecceb920f36b5027fe0a06676fe05081f5a36d  \n",
      "..                         ...                                       ...  \n",
      "557  2018-12-18T00:01:08+01:00  68344e74a00e525e44bc9e1b754fb15622eb7993  \n",
      "558  2018-12-18T00:01:08+01:00  ee6ca7da44fc2ffc0d9721f7666bc0dc97f1cbd5  \n",
      "559  2018-12-18T00:01:08+01:00  8a6c000ad13c4bedf78bd955e6528219741754ac  \n",
      "560  2018-12-18T00:01:08+01:00  373881bbdca26052dc750fc853ba0d7734da3d7a  \n",
      "561  2018-12-18T00:01:08+01:00  164b004f0087f510817de9a950a1528d147482eb  \n",
      "562  2018-12-18T00:01:08+01:00  5048d90236f0951b33dc4696432d0841fc7eef2c  \n",
      "563  2018-12-18T00:01:08+01:00  7af02b4c96a19207b8b951153d55f1e5c2a94b89  \n",
      "564  2018-12-18T00:01:08+01:00  71b7654e14b2b18ec6788bbbcb587743c9c8ffa2  \n",
      "565  2018-12-18T00:01:08+01:00  727310e69283d3660de52ffc8584af334d71a52d  \n",
      "566  2018-12-18T00:01:08+01:00  854383afa738fe40fa894ca216cffc71aadc7837  \n",
      "567  2018-12-18T00:01:08+01:00  b67d953ff251fc8ace1797e3b8b0dccea6989c22  \n",
      "568  2018-12-18T00:01:08+01:00  501f8381767db6e9e6b56156e57221806e55cdc2  \n",
      "569  2018-12-18T00:01:08+01:00  530cd8cca45721eb865613e90ca76106d1852e28  \n",
      "570  2018-12-18T00:01:08+01:00  a0a6ea1a46d3e1ee9c32e60a6fb3cd8ea5d13cae  \n",
      "571  2018-12-18T00:01:08+01:00  a4f4d29f6b74c81d55bbe7edf45a087f25162a57  \n",
      "572  2018-12-18T00:01:08+01:00  6e9c6ee615b0fe229db456ca1b45017edcc4158a  \n",
      "573  2018-12-18T00:01:08+01:00  e18de577f270d543d9abec11766241dde4c2b841  \n",
      "574  2018-12-18T00:01:08+01:00  b1623899f94141bdc577f3d340c067eae83f9f97  \n",
      "575  2018-12-18T00:01:08+01:00  0edfae64dfacd5bf7bba50e9797c4023c75d074f  \n",
      "576  2018-12-18T00:01:08+01:00  d9f83f05310b19734d341b3038bd9e6583215b4e  \n",
      "577  2018-12-18T00:01:08+01:00  36cccf81f15dd9fd4b50bf04891b530569f391f8  \n",
      "578  2018-12-18T00:01:08+01:00  180b7464ac6bf520382382ececc5a0c774ecaabc  \n",
      "579  2018-12-18T00:01:08+01:00  fd32ccfc03fdc1de4be3f6d96563deec868e7b2b  \n",
      "580  2018-12-18T00:01:08+01:00  8b40d9035d57e4035bc208bac366db7e12ad9658  \n",
      "581  2018-12-18T00:01:08+01:00  7bddc237255fd37e2e3dedbf767832b016235727  \n",
      "582  2018-12-18T00:01:08+01:00  009f6ff86a7adcd8e8756db205bba54d0d483a14  \n",
      "583  2018-12-18T00:01:08+01:00  5de488748c92eae9051a1fb3393d6a706408a9c2  \n",
      "584  2018-12-18T00:01:08+01:00  420efbce5a6da343e0dac608cdab9303aac7f736  \n",
      "585  2018-12-18T00:01:08+01:00  296773d26f6e02faeb242569ca0472b3d41594e1  \n",
      "586  2018-12-18T00:01:08+01:00  1438d9593e670a44773ffe85f89cdaf087b7cc83  \n",
      "\n",
      "[587 rows x 3 columns]\n"
     ]
    }
   ],
   "source": [
    "salaires = pd.read_json(\"./Salaires.json\")\n",
    "print(salaires)"
   ]
  },
  {
   "cell_type": "markdown",
   "metadata": {},
   "source": [
    "# Tri des données"
   ]
  },
  {
   "cell_type": "code",
   "execution_count": 47,
   "metadata": {},
   "outputs": [
    {
     "ename": "KeyError",
     "evalue": "'salaire_brut_eu'",
     "output_type": "error",
     "traceback": [
      "\u001b[0;31m---------------------------------------------------------------------------\u001b[0m",
      "\u001b[0;31mKeyError\u001b[0m                                  Traceback (most recent call last)",
      "\u001b[0;32m<ipython-input-47-d39898fbba3b>\u001b[0m in \u001b[0;36m<module>\u001b[0;34m\u001b[0m\n\u001b[1;32m      7\u001b[0m \u001b[0;32mfor\u001b[0m \u001b[0mx\u001b[0m \u001b[0;32min\u001b[0m \u001b[0msalaires\u001b[0m\u001b[0;34m.\u001b[0m\u001b[0mfields\u001b[0m\u001b[0;34m:\u001b[0m\u001b[0;34m\u001b[0m\u001b[0;34m\u001b[0m\u001b[0m\n\u001b[1;32m      8\u001b[0m \u001b[0;34m\u001b[0m\u001b[0m\n\u001b[0;32m----> 9\u001b[0;31m     \u001b[0mrow\u001b[0m \u001b[0;34m=\u001b[0m \u001b[0;34m[\u001b[0m\u001b[0mx\u001b[0m\u001b[0;34m[\u001b[0m\u001b[0;34m\"salaire_brut_eu\"\u001b[0m\u001b[0;34m]\u001b[0m\u001b[0;34m,\u001b[0m\u001b[0mx\u001b[0m\u001b[0;34m[\u001b[0m\u001b[0;34m\"annees_d_experience\"\u001b[0m\u001b[0;34m]\u001b[0m\u001b[0;34m]\u001b[0m\u001b[0;34m\u001b[0m\u001b[0;34m\u001b[0m\u001b[0m\n\u001b[0m\u001b[1;32m     10\u001b[0m     \u001b[0mdata\u001b[0m\u001b[0;34m.\u001b[0m\u001b[0mappend\u001b[0m\u001b[0;34m(\u001b[0m\u001b[0mrow\u001b[0m\u001b[0;34m)\u001b[0m\u001b[0;34m\u001b[0m\u001b[0;34m\u001b[0m\u001b[0m\n\u001b[1;32m     11\u001b[0m     \u001b[0;32mif\u001b[0m \u001b[0mindex\u001b[0m \u001b[0;34m>\u001b[0m \u001b[0;36m30\u001b[0m \u001b[0;34m:\u001b[0m\u001b[0;34m\u001b[0m\u001b[0;34m\u001b[0m\u001b[0m\n",
      "\u001b[0;31mKeyError\u001b[0m: 'salaire_brut_eu'"
     ]
    }
   ],
   "source": [
    "data = []\n",
    "##codePostal = []\n",
    "index = 0\n",
    "columns =  [\"salaire\",\"experience\"]\n",
    "\n",
    "\n",
    "for x in salaires.fields:\n",
    "    \n",
    "    row = [x[\"salaire_brut_eu\"],x[\"annees_d_experience\"]]\n",
    "    data.append(row)\n",
    "    if index > 30 : \n",
    "        break;\n",
    "        index = index+1\n"
   ]
  },
  {
   "cell_type": "code",
   "execution_count": 48,
   "metadata": {},
   "outputs": [
    {
     "name": "stdout",
     "output_type": "stream",
     "text": [
      "Chargement des données effectué.\n"
     ]
    }
   ],
   "source": [
    "dataset = pd.DataFrame(data, columns=columns)\n",
    "print(\"Chargement des données effectué.\")"
   ]
  },
  {
   "cell_type": "code",
   "execution_count": 49,
   "metadata": {},
   "outputs": [
    {
     "data": {
      "text/html": [
       "<div>\n",
       "<style scoped>\n",
       "    .dataframe tbody tr th:only-of-type {\n",
       "        vertical-align: middle;\n",
       "    }\n",
       "\n",
       "    .dataframe tbody tr th {\n",
       "        vertical-align: top;\n",
       "    }\n",
       "\n",
       "    .dataframe thead th {\n",
       "        text-align: right;\n",
       "    }\n",
       "</style>\n",
       "<table border=\"1\" class=\"dataframe\">\n",
       "  <thead>\n",
       "    <tr style=\"text-align: right;\">\n",
       "      <th></th>\n",
       "      <th>salaire</th>\n",
       "      <th>experience</th>\n",
       "    </tr>\n",
       "  </thead>\n",
       "  <tbody>\n",
       "    <tr>\n",
       "      <th>0</th>\n",
       "      <td>39000</td>\n",
       "      <td>0.5</td>\n",
       "    </tr>\n",
       "    <tr>\n",
       "      <th>1</th>\n",
       "      <td>20000</td>\n",
       "      <td>13.0</td>\n",
       "    </tr>\n",
       "    <tr>\n",
       "      <th>2</th>\n",
       "      <td>0</td>\n",
       "      <td>7.0</td>\n",
       "    </tr>\n",
       "    <tr>\n",
       "      <th>3</th>\n",
       "      <td>54000</td>\n",
       "      <td>20.0</td>\n",
       "    </tr>\n",
       "    <tr>\n",
       "      <th>4</th>\n",
       "      <td>65000</td>\n",
       "      <td>6.0</td>\n",
       "    </tr>\n",
       "  </tbody>\n",
       "</table>\n",
       "</div>"
      ],
      "text/plain": [
       "   salaire  experience\n",
       "0    39000         0.5\n",
       "1    20000        13.0\n",
       "2        0         7.0\n",
       "3    54000        20.0\n",
       "4    65000         6.0"
      ]
     },
     "execution_count": 49,
     "metadata": {},
     "output_type": "execute_result"
    }
   ],
   "source": [
    "dataset.head()"
   ]
  },
  {
   "cell_type": "raw",
   "metadata": {},
   "source": []
  },
  {
   "cell_type": "markdown",
   "metadata": {},
   "source": [
    "# Modèle simple\n",
    "\n",
    "### Données d'entrée\n",
    "\n",
    "Dans ce premier modèle simple, nous allons essayer de le salaire d'un salariéen fo. L'objectif est de déterminer s'il existe un lien linéaire entre ces deux variables, et si oui, modéliser ce lien par une régression linéaire simple."
   ]
  },
  {
   "cell_type": "code",
   "execution_count": 50,
   "metadata": {},
   "outputs": [],
   "source": [
    "X_train = dataset[\"salaire\"]\n",
    "Y_train = dataset['experience']"
   ]
  },
  {
   "cell_type": "code",
   "execution_count": 51,
   "metadata": {
    "scrolled": true
   },
   "outputs": [
    {
     "data": {
      "image/png": "[encoded data removed]",
      "text/plain": [
       "<Figure size 864x504 with 1 Axes>"
      ]
     },
     "metadata": {
      "needs_background": "light"
     },
     "output_type": "display_data"
    }
   ],
   "source": [
    "plt.figure(figsize=(12, 7))\n",
    "plt.scatter(X_train, Y_train)\n",
    "plt.show()"
   ]
  },
  {
   "cell_type": "code",
   "execution_count": 27,
   "metadata": {},
   "outputs": [
    {
     "ename": "ValueError",
     "evalue": "Expected 2D array, got 1D array instead:\narray=[39000 20000     0 54000 65000 63000 33500].\nReshape your data either using array.reshape(-1, 1) if your data has a single feature or array.reshape(1, -1) if it contains a single sample.",
     "output_type": "error",
     "traceback": [
      "\u001b[0;31m---------------------------------------------------------------------------\u001b[0m",
      "\u001b[0;31mValueError\u001b[0m                                Traceback (most recent call last)",
      "\u001b[0;32m<ipython-input-27-276fdfba3ddd>\u001b[0m in \u001b[0;36m<module>\u001b[0;34m\u001b[0m\n\u001b[1;32m      2\u001b[0m \u001b[0mregr\u001b[0m \u001b[0;34m=\u001b[0m \u001b[0mlinear_model\u001b[0m\u001b[0;34m.\u001b[0m\u001b[0mLinearRegression\u001b[0m\u001b[0;34m(\u001b[0m\u001b[0;34m)\u001b[0m\u001b[0;34m\u001b[0m\u001b[0;34m\u001b[0m\u001b[0m\n\u001b[1;32m      3\u001b[0m \u001b[0;31m# On entraîne le modèle sur notre ensemble d'entraînement\u001b[0m\u001b[0;34m\u001b[0m\u001b[0;34m\u001b[0m\u001b[0;34m\u001b[0m\u001b[0m\n\u001b[0;32m----> 4\u001b[0;31m \u001b[0mregr\u001b[0m\u001b[0;34m.\u001b[0m\u001b[0mfit\u001b[0m\u001b[0;34m(\u001b[0m\u001b[0mX_train\u001b[0m\u001b[0;34m,\u001b[0m \u001b[0mY_train\u001b[0m\u001b[0;34m)\u001b[0m\u001b[0;34m\u001b[0m\u001b[0;34m\u001b[0m\u001b[0m\n\u001b[0m",
      "\u001b[0;32m/Library/Frameworks/Python.framework/Versions/3.7/lib/python3.7/site-packages/sklearn/linear_model/base.py\u001b[0m in \u001b[0;36mfit\u001b[0;34m(self, X, y, sample_weight)\u001b[0m\n\u001b[1;32m    456\u001b[0m         \u001b[0mn_jobs_\u001b[0m \u001b[0;34m=\u001b[0m \u001b[0mself\u001b[0m\u001b[0;34m.\u001b[0m\u001b[0mn_jobs\u001b[0m\u001b[0;34m\u001b[0m\u001b[0;34m\u001b[0m\u001b[0m\n\u001b[1;32m    457\u001b[0m         X, y = check_X_y(X, y, accept_sparse=['csr', 'csc', 'coo'],\n\u001b[0;32m--> 458\u001b[0;31m                          y_numeric=True, multi_output=True)\n\u001b[0m\u001b[1;32m    459\u001b[0m \u001b[0;34m\u001b[0m\u001b[0m\n\u001b[1;32m    460\u001b[0m         \u001b[0;32mif\u001b[0m \u001b[0msample_weight\u001b[0m \u001b[0;32mis\u001b[0m \u001b[0;32mnot\u001b[0m \u001b[0;32mNone\u001b[0m \u001b[0;32mand\u001b[0m \u001b[0mnp\u001b[0m\u001b[0;34m.\u001b[0m\u001b[0matleast_1d\u001b[0m\u001b[0;34m(\u001b[0m\u001b[0msample_weight\u001b[0m\u001b[0;34m)\u001b[0m\u001b[0;34m.\u001b[0m\u001b[0mndim\u001b[0m \u001b[0;34m>\u001b[0m \u001b[0;36m1\u001b[0m\u001b[0;34m:\u001b[0m\u001b[0;34m\u001b[0m\u001b[0;34m\u001b[0m\u001b[0m\n",
      "\u001b[0;32m/Library/Frameworks/Python.framework/Versions/3.7/lib/python3.7/site-packages/sklearn/utils/validation.py\u001b[0m in \u001b[0;36mcheck_X_y\u001b[0;34m(X, y, accept_sparse, accept_large_sparse, dtype, order, copy, force_all_finite, ensure_2d, allow_nd, multi_output, ensure_min_samples, ensure_min_features, y_numeric, warn_on_dtype, estimator)\u001b[0m\n\u001b[1;32m    754\u001b[0m                     \u001b[0mensure_min_features\u001b[0m\u001b[0;34m=\u001b[0m\u001b[0mensure_min_features\u001b[0m\u001b[0;34m,\u001b[0m\u001b[0;34m\u001b[0m\u001b[0;34m\u001b[0m\u001b[0m\n\u001b[1;32m    755\u001b[0m                     \u001b[0mwarn_on_dtype\u001b[0m\u001b[0;34m=\u001b[0m\u001b[0mwarn_on_dtype\u001b[0m\u001b[0;34m,\u001b[0m\u001b[0;34m\u001b[0m\u001b[0;34m\u001b[0m\u001b[0m\n\u001b[0;32m--> 756\u001b[0;31m                     estimator=estimator)\n\u001b[0m\u001b[1;32m    757\u001b[0m     \u001b[0;32mif\u001b[0m \u001b[0mmulti_output\u001b[0m\u001b[0;34m:\u001b[0m\u001b[0;34m\u001b[0m\u001b[0;34m\u001b[0m\u001b[0m\n\u001b[1;32m    758\u001b[0m         y = check_array(y, 'csr', force_all_finite=True, ensure_2d=False,\n",
      "\u001b[0;32m/Library/Frameworks/Python.framework/Versions/3.7/lib/python3.7/site-packages/sklearn/utils/validation.py\u001b[0m in \u001b[0;36mcheck_array\u001b[0;34m(array, accept_sparse, accept_large_sparse, dtype, order, copy, force_all_finite, ensure_2d, allow_nd, ensure_min_samples, ensure_min_features, warn_on_dtype, estimator)\u001b[0m\n\u001b[1;32m    550\u001b[0m                     \u001b[0;34m\"Reshape your data either using array.reshape(-1, 1) if \"\u001b[0m\u001b[0;34m\u001b[0m\u001b[0;34m\u001b[0m\u001b[0m\n\u001b[1;32m    551\u001b[0m                     \u001b[0;34m\"your data has a single feature or array.reshape(1, -1) \"\u001b[0m\u001b[0;34m\u001b[0m\u001b[0;34m\u001b[0m\u001b[0m\n\u001b[0;32m--> 552\u001b[0;31m                     \"if it contains a single sample.\".format(array))\n\u001b[0m\u001b[1;32m    553\u001b[0m \u001b[0;34m\u001b[0m\u001b[0m\n\u001b[1;32m    554\u001b[0m         \u001b[0;31m# in the future np.flexible dtypes will be handled like object dtypes\u001b[0m\u001b[0;34m\u001b[0m\u001b[0;34m\u001b[0m\u001b[0;34m\u001b[0m\u001b[0m\n",
      "\u001b[0;31mValueError\u001b[0m: Expected 2D array, got 1D array instead:\narray=[39000 20000     0 54000 65000 63000 33500].\nReshape your data either using array.reshape(-1, 1) if your data has a single feature or array.reshape(1, -1) if it contains a single sample."
     ]
    }
   ],
   "source": [
    "# On crée l'objet de régression\n",
    "regr = linear_model.LinearRegression()\n",
    "# On entraîne le modèle sur notre ensemble d'entraînement\n",
    "regr.fit(X_train, Y_train)"
   ]
  },
  {
   "cell_type": "code",
   "execution_count": null,
   "metadata": {},
   "outputs": [],
   "source": []
  }
 ],
 "metadata": {
  "kernelspec": {
   "display_name": "Python 3",
   "language": "python",
   "name": "python3"
  },
  "language_info": {
   "codemirror_mode": {
    "name": "ipython",
    "version": 3
   },
   "file_extension": ".py",
   "mimetype": "text/x-python",
   "name": "python",
   "nbconvert_exporter": "python",
   "pygments_lexer": "ipython3",
   "version": "3.7.1"
  }
 },
 "nbformat": 4,
 "nbformat_minor": 2
}
