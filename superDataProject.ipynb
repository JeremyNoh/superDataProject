{
 "cells": [
  {
   "cell_type": "markdown",
   "metadata": {},
   "source": [
    "#Super data project"
   ]
  },
  {
   "cell_type": "markdown",
   "metadata": {},
   "source": [
    "Projet Linéaire"
   ]
  },
  {
   "cell_type": "markdown",
   "metadata": {},
   "source": [
    "Membre du groupe: Jeremy noh, Antoine François, julien Luccioni"
   ]
  },
  {
   "cell_type": "raw",
   "metadata": {},
   "source": [
    "notre jeu de donnée sera le recensement des logements sociaux à Paris "
   ]
  },
  {
   "cell_type": "markdown",
   "metadata": {},
   "source": [
    "## Import Lib"
   ]
  },
  {
   "cell_type": "code",
   "execution_count": 7,
   "metadata": {},
   "outputs": [],
   "source": [
    "import numpy as np\n",
    "import pandas as pd\n",
    "import matplotlib.pyplot as plt\n",
    "import scipy\n",
    "\n",
    "\n",
    "from sklearn import linear_model \n",
    "from sklearn import datasets\n",
    "from sklearn.metrics import mean_squared_error, r2_score \n",
    "import seaborn as sns"
   ]
  },
  {
   "cell_type": "markdown",
   "metadata": {},
   "source": [
    "#  Import  DATASET"
   ]
  },
  {
   "cell_type": "code",
   "execution_count": 13,
   "metadata": {},
   "outputs": [],
   "source": [
    "logements = pd.read_json(\"./logements-sociaux-finances-a-paris.json\")\n",
    "## print(logements) "
   ]
  },
  {
   "cell_type": "markdown",
   "metadata": {},
   "source": [
    "# Tri des données"
   ]
  },
  {
   "cell_type": "code",
   "execution_count": 58,
   "metadata": {},
   "outputs": [],
   "source": [
    "data = []\n",
    "##codePostal = []\n",
    "columns =  [\"annee\",\"codePostal\",\"nbLogement\",\"nature\",\"mode\"]\n",
    "\n",
    "\n",
    "for x in logements.fields:\n",
    "    ##codePostal.append(x[\"code_postal\"])\n",
    "    row = [x[\"annee\"],x[\"code_postal\"],x[\"nb_logmt_total\"],x[\"nature_programme\"],x[\"mode_real\"] ]  \n",
    "    data.append(row)\n",
    "    ##break ; \n",
    "    \n",
    "\n",
    "##codePostaux = np.unique(codePostal) \n",
    "\n",
    "    \n"
   ]
  },
  {
   "cell_type": "code",
   "execution_count": 61,
   "metadata": {},
   "outputs": [
    {
     "name": "stdout",
     "output_type": "stream",
     "text": [
      "Chargement des données effectué.\n"
     ]
    }
   ],
   "source": [
    "dataset = pd.DataFrame(data, columns=columns)\n",
    "##dataset['target'] =  codePostaux\n",
    "print(\"Chargement des données effectué.\")"
   ]
  },
  {
   "cell_type": "code",
   "execution_count": 62,
   "metadata": {},
   "outputs": [
    {
     "data": {
      "text/html": [
       "<div>\n",
       "<style scoped>\n",
       "    .dataframe tbody tr th:only-of-type {\n",
       "        vertical-align: middle;\n",
       "    }\n",
       "\n",
       "    .dataframe tbody tr th {\n",
       "        vertical-align: top;\n",
       "    }\n",
       "\n",
       "    .dataframe thead th {\n",
       "        text-align: right;\n",
       "    }\n",
       "</style>\n",
       "<table border=\"1\" class=\"dataframe\">\n",
       "  <thead>\n",
       "    <tr style=\"text-align: right;\">\n",
       "      <th></th>\n",
       "      <th>annee</th>\n",
       "      <th>codePostal</th>\n",
       "      <th>nbLogement</th>\n",
       "      <th>nature</th>\n",
       "      <th>mode</th>\n",
       "    </tr>\n",
       "  </thead>\n",
       "  <tbody>\n",
       "    <tr>\n",
       "      <th>0</th>\n",
       "      <td>2013</td>\n",
       "      <td>75010</td>\n",
       "      <td>2</td>\n",
       "      <td>logement familial</td>\n",
       "      <td>acquisition conventionnement</td>\n",
       "    </tr>\n",
       "    <tr>\n",
       "      <th>1</th>\n",
       "      <td>2013</td>\n",
       "      <td>75011</td>\n",
       "      <td>1</td>\n",
       "      <td>logement familial</td>\n",
       "      <td>acquisition réhabilitation</td>\n",
       "    </tr>\n",
       "    <tr>\n",
       "      <th>2</th>\n",
       "      <td>2013</td>\n",
       "      <td>75012</td>\n",
       "      <td>28</td>\n",
       "      <td>résidence pour personnes âgées</td>\n",
       "      <td>construction neuve</td>\n",
       "    </tr>\n",
       "    <tr>\n",
       "      <th>3</th>\n",
       "      <td>2013</td>\n",
       "      <td>75013</td>\n",
       "      <td>38</td>\n",
       "      <td>logement familial</td>\n",
       "      <td>acquisition conventionnement</td>\n",
       "    </tr>\n",
       "    <tr>\n",
       "      <th>4</th>\n",
       "      <td>2013</td>\n",
       "      <td>75013</td>\n",
       "      <td>1</td>\n",
       "      <td>logement familial</td>\n",
       "      <td>acquisition réhabilitation</td>\n",
       "    </tr>\n",
       "  </tbody>\n",
       "</table>\n",
       "</div>"
      ],
      "text/plain": [
       "  annee  codePostal  nbLogement                          nature  \\\n",
       "0  2013       75010           2               logement familial   \n",
       "1  2013       75011           1               logement familial   \n",
       "2  2013       75012          28  résidence pour personnes âgées   \n",
       "3  2013       75013          38               logement familial   \n",
       "4  2013       75013           1               logement familial   \n",
       "\n",
       "                           mode  \n",
       "0  acquisition conventionnement  \n",
       "1    acquisition réhabilitation  \n",
       "2            construction neuve  \n",
       "3  acquisition conventionnement  \n",
       "4    acquisition réhabilitation  "
      ]
     },
     "execution_count": 62,
     "metadata": {},
     "output_type": "execute_result"
    }
   ],
   "source": [
    "dataset.head()"
   ]
  },
  {
   "cell_type": "raw",
   "metadata": {},
   "source": [
    "nb_logmt_total\n",
    "code_postal\n",
    "nature_programme\n",
    "annee\n",
    "mode_real"
   ]
  },
  {
   "cell_type": "code",
   "execution_count": null,
   "metadata": {},
   "outputs": [],
   "source": []
  }
 ],
 "metadata": {
  "kernelspec": {
   "display_name": "Python 3",
   "language": "python",
   "name": "python3"
  },
  "language_info": {
   "codemirror_mode": {
    "name": "ipython",
    "version": 3
   },
   "file_extension": ".py",
   "mimetype": "text/x-python",
   "name": "python",
   "nbconvert_exporter": "python",
   "pygments_lexer": "ipython3",
   "version": "3.7.1"
  }
 },
 "nbformat": 4,
 "nbformat_minor": 2
}
